{
  "nbformat": 4,
  "nbformat_minor": 2,
  "metadata": {
    "colab": {
      "name": "BaseDatosOro.ipynb",
      "provenance": [],
      "authorship_tag": "ABX9TyNJZ5PwRj0R6oYiTL2Kr6No",
      "include_colab_link": true
    },
    "kernelspec": {
      "name": "python3",
      "display_name": "Python 3.7.6 64-bit ('base': conda)"
    },
    "language_info": {
      "name": "python",
      "version": "3.7.6",
      "mimetype": "text/x-python",
      "codemirror_mode": {
        "name": "ipython",
        "version": 3
      },
      "pygments_lexer": "ipython3",
      "nbconvert_exporter": "python",
      "file_extension": ".py"
    },
    "interpreter": {
      "hash": "66e4a4b7c121db4243309d1eb7f3fba70ad006b305f754897095e92fca8ac47b"
    }
  },
  "cells": [
    {
      "cell_type": "markdown",
      "source": [
        "<a href=\"https://colab.research.google.com/github/Mardugo/ClaseMachineLearning/blob/main/BaseDatosOro.ipynb\" target=\"_parent\"><img src=\"https://colab.research.google.com/assets/colab-badge.svg\" alt=\"Open In Colab\"/></a>"
      ],
      "metadata": {
        "id": "view-in-github",
        "colab_type": "text"
      }
    },
    {
      "cell_type": "markdown",
      "source": [
        "R cuadrado con los datos de resistencia"
      ],
      "metadata": {
        "id": "RgsTEhRlF39V"
      }
    },
    {
      "cell_type": "code",
      "execution_count": 13,
      "source": [
        "#Librerias necesarias\r\n",
        "\r\n",
        "import pandas as pd\r\n",
        "import numpy as np\r\n",
        "from matplotlib import pyplot as plt"
      ],
      "outputs": [],
      "metadata": {
        "id": "N7tyhnsLGA30"
      }
    },
    {
      "cell_type": "code",
      "execution_count": 14,
      "source": [
        "def hipotesis(theta0, theta1, x):\r\n",
        "    return theta0 + theta1*x\r\n",
        "\r\n",
        "def costo2(parametros, caract, etiquet):\r\n",
        "    j = ((hipotesis(parametros[0], parametros[1], caract)-etiquet)**2)\r\n",
        "    return np.sum(j)/(2*len(caract));\r\n",
        "\r\n",
        "def busqPara(caract, etiquet):\r\n",
        "    min_j, min_aux, theta0_min, theta1_min = 99999, 0, 0, 0\r\n",
        "    for i in np.arange(-3,3,0.01):\r\n",
        "        for j in np.arange(-3,3,0.01):\r\n",
        "            min_aux = costo2(np.array([i, j]),caract,etiquet)\r\n",
        "            if(min_aux < min_j):\r\n",
        "                min_j, theta0_min, theta1_min = min_aux, i, j\r\n",
        "    return np.array([theta0_min, theta1_min])"
      ],
      "outputs": [],
      "metadata": {
        "colab": {
          "base_uri": "https://localhost:8080/",
          "height": 424
        },
        "id": "Opw7aPwUGEoV",
        "outputId": "6433c842-ad8c-46eb-a4bc-3b1911a83df8"
      }
    },
    {
      "cell_type": "code",
      "execution_count": 15,
      "source": [
        "caract = np.arange(1,6.5,0.5)\r\n",
        "\r\n",
        "etiquet = np.array([0.169610271922408, 0.283395812542308, 0.386358737510785, 0.470227872390909, 0.433281293764675, 0.600267648212653, 0.738338980436742, 0.790315020494445, 0.877464268422459, 0.84356446225183, 0.96443891694455],float)\r\n",
        "\r\n",
        "theta = busqPara(caract, etiquet)\r\n",
        "\r\n",
        "estimadorEti = np.array([])\r\n",
        "\r\n",
        "for i in caract:\r\n",
        "    estimadorEti = np.append(estimadorEti, hipotesis(theta[0], theta[1], i))"
      ],
      "outputs": [],
      "metadata": {}
    },
    {
      "cell_type": "code",
      "execution_count": 16,
      "source": [
        "def r2(y, y_estimator):\r\n",
        "    num = np.sum((etiquet - estimadorEti)**2)\r\n",
        "    au = np.mean(estimadorEti)\r\n",
        "    den = np.sum((etiquet - au)**2)\r\n",
        "    r22 = 1 - (num/den)\r\n",
        "    return r22\r\n",
        "\r\n",
        "print(\"Resultado de la estimación R cuadrado: \", r2(etiquet,estimadorEti))"
      ],
      "outputs": [
        {
          "output_type": "stream",
          "name": "stdout",
          "text": [
            "Resultado de la estimación R cuadrado:  0.967301323490383\n"
          ]
        }
      ],
      "metadata": {
        "colab": {
          "base_uri": "https://localhost:8080/"
        },
        "id": "k0kuvBqqIDr9",
        "outputId": "6b4807c8-b806-42a1-a950-6ed2a0f0fff6"
      }
    }
  ]
}